{
 "cells": [
  {
   "cell_type": "code",
   "execution_count": 1,
   "metadata": {},
   "outputs": [],
   "source": [
    "import psi4\n",
    "from pandas import DataFrame\n",
    "import numpy as np\n",
    "import pyopencap\n",
    "import time"
   ]
  },
  {
   "cell_type": "code",
   "execution_count": 2,
   "metadata": {},
   "outputs": [],
   "source": [
    "psi4.core.set_output_file('output.dat', False)"
   ]
  },
  {
   "cell_type": "markdown",
   "metadata": {},
   "source": [
    "# Step 1: Define basis set and geometry"
   ]
  },
  {
   "cell_type": "code",
   "execution_count": 3,
   "metadata": {},
   "outputs": [],
   "source": [
    "mol = psi4.geometry(\"\"\"\n",
    "    @He 0.0000000000 0.0000000000 -0.7400000000\n",
    "    @He 0.0000000000 0.0000000000 0.7400000000\n",
    "    H 0.0000000000 0.0000000000 0.3705000000\n",
    "    H 0.0000000000 0.0000000000 -0.3705000000\"\"\")\n",
    "def basisspec_psi4_yo__anonymous03952cbd(mol, role):\n",
    "    basstrings = {}\n",
    "    mol.set_basis_all_atoms(\"test_bas\", role=role)\n",
    "    basstrings['test_bas'] = \"\"\"\n",
    "        spherical\n",
    "        ****\n",
    "        H    0\n",
    "        S   3  1.00\n",
    "        82.6400000000          0.00200600\n",
    "        12.4100000000          0.01534300\n",
    "        2.8240000000           0.07557900\n",
    "        S   1  1.00\n",
    "        0.7977000000           1.00000000\n",
    "        S   1  1.00\n",
    "        0.2581000000           1.00000000\n",
    "        S   1  1.00\n",
    "        0.0898900000           1.00000000\n",
    "        S   1  1.00\n",
    "        0.0236300000           1.00000000\n",
    "        P   1  1.00\n",
    "        2.2920000000           1.00000000\n",
    "        P   1  1.00\n",
    "        0.8380000000           1.00000000\n",
    "        P   1  1.00\n",
    "        0.2920000000           1.00000000\n",
    "        P   1  1.00\n",
    "        0.0848000000           1.00000000\n",
    "        D   1  1.00\n",
    "        2.0620000000           1.00000000\n",
    "        D   1  1.00\n",
    "        0.6620000000           1.00000000\n",
    "        D   1  1.00\n",
    "        0.1900000000           1.00000000\n",
    "        F   1  1.00\n",
    "        1.3970000000           1.00000000\n",
    "        F   1  1.00\n",
    "        0.3600000000           1.00000000\n",
    "        ****\n",
    "He 0\n",
    "S 1  1.00\n",
    "0.0118150000 1.00000000\n",
    "S 1  1.00\n",
    "0.0059075000 1.00000000\n",
    "S 1  1.00\n",
    "0.0029537500 1.00000000\n",
    "S 1  1.00\n",
    "0.0014768750 1.00000000\n",
    "P 1  1.00\n",
    "0.0424000000 1.00000000\n",
    "P 1  1.00\n",
    "0.0212000000 1.00000000\n",
    "P 1  1.00\n",
    "0.0106000000 1.00000000\n",
    "P 1  1.00\n",
    "0.0053000000 1.00000000\n",
    "****\n",
    "        \"\"\"\n",
    "    return basstrings"
   ]
  },
  {
   "cell_type": "markdown",
   "metadata": {},
   "source": [
    "# Step 2: Run FCI"
   ]
  },
  {
   "cell_type": "code",
   "execution_count": 4,
   "metadata": {},
   "outputs": [
    {
     "name": "stderr",
     "output_type": "stream",
     "text": [
      "<ipython-input-4-82af8d66fffa>:18: FutureWarning: Using `psi4.core.get_variable` instead of `psi4.core.variable` (or `psi4.core.scalar_variable` for scalar variables only) is deprecated, and in 1.4 it will stop working\n",
      "\n",
      "  h0[i][i] = float(psi4.get_variable(var_str))\n"
     ]
    }
   ],
   "source": [
    "nstates = 15\n",
    "psi4.qcdb.libmintsbasisset.basishorde['ANONYMOUS03952CBD'] = basisspec_psi4_yo__anonymous03952cbd\n",
    "psi4.core.set_global_option(\"BASIS\", \"anonymous03952cbd\")\n",
    "E, wfn = psi4.energy('scf', return_wfn=True)\n",
    "mints = psi4.core.MintsHelper(wfn.basisset())\n",
    "S_mat = np.asarray(mints.ao_overlap())\n",
    "n_bas = S_mat.shape[0]\n",
    "so2ao = mints.petite_list().sotoao()\n",
    "psi4.molden(wfn, 'h2.molden')\n",
    "# add 7F to molden file, psi4 doesn't write it for some reason\n",
    "with open(\"h2.molden\", \"a\") as myfile:\n",
    "    myfile.write(\"\\n [7F] \\n\")\n",
    "psi4.set_options({\"opdm\":True,\"num_roots\":nstates,\"tdm\":True,\"dipmom\":True})\n",
    "ci_energy, ci_wfn = psi4.energy('FCI', return_wfn=True)\n",
    "h0 = np.zeros((nstates,nstates))\n",
    "for i in range(0,nstates):\n",
    "    var_str = 'CI ROOT ' + str(i) + ' TOTAL ENERGY'\n",
    "    h0[i][i] = float(psi4.get_variable(var_str))"
   ]
  },
  {
   "cell_type": "raw",
   "metadata": {},
   "source": [
    "# Step 3: Construct pyopencap objects using molden file"
   ]
  },
  {
   "cell_type": "code",
   "execution_count": 5,
   "metadata": {},
   "outputs": [
    {
     "name": "stdout",
     "output_type": "stream",
     "text": [
      "Verified overlap matrix.\n",
      "Integration time:4.161023\n"
     ]
    }
   ],
   "source": [
    "molden_dict = {\"basis_file\":\"h2.molden\",\n",
    "    \"molecule\": \"molden\"}\n",
    "s = pyopencap.System(molden_dict)\n",
    "s.check_overlap_mat(S_mat,\"psi4\")\n",
    "cap_dict = {\n",
    "    \"cap_type\": \"box\",\n",
    "        \"cap_x\":\"6.00\",\n",
    "            \"cap_y\":\"6.00\",\n",
    "            \"cap_z\":\"6.7\",\n",
    "}\n",
    "pc = pyopencap.CAP(s,cap_dict,nstates)\n",
    "pc.compute_ao_cap()"
   ]
  },
  {
   "cell_type": "markdown",
   "metadata": {},
   "source": [
    "# Step 4: Pass density matrics in RAM and compute CAP matrix"
   ]
  },
  {
   "cell_type": "code",
   "execution_count": 6,
   "metadata": {},
   "outputs": [],
   "source": [
    "for i in range(0,nstates):\n",
    "    for j in range(i,nstates):\n",
    "        opdm_mo = ci_wfn.get_opdm(i, j, \"SUM\", True)\n",
    "        opdm_so = psi4.core.triplet(ci_wfn.Ca(), opdm_mo, ci_wfn.Ca(), False, False, True)\n",
    "        opdm_ao = psi4.core.Matrix(n_bas,n_bas)\n",
    "        opdm_ao.remove_symmetry(opdm_so,so2ao)\n",
    "        pc.add_tdm(opdm_ao.to_array(),i,j,\"psi4\")\n",
    "        if not i==j:\n",
    "            pc.add_tdm(opdm_ao.to_array(),j,i,\"psi4\")\n",
    "pc.compute_projected_cap()\n",
    "W = pc.get_projected_cap()"
   ]
  },
  {
   "cell_type": "markdown",
   "metadata": {},
   "source": [
    "# Step 5: Eigenvalue trajectory"
   ]
  },
  {
   "cell_type": "code",
   "execution_count": 8,
   "metadata": {},
   "outputs": [
    {
     "name": "stdout",
     "output_type": "stream",
     "text": [
      "Uncorrected:\n",
      "(13.23565021429412-0.15159174735556977j)\n",
      "0.011000000000000001\n",
      "Corrected:\n",
      "(13.229142026496564-0.05823329409148581j)\n",
      "0.031000000000000003\n"
     ]
    },
    {
     "data": {
      "image/png": "[encoded data removed]",
      "text/plain": [
       "<Figure size 432x288 with 1 Axes>"
      ]
     },
     "metadata": {
      "needs_background": "light"
     },
     "output_type": "display_data"
    }
   ],
   "source": [
    "from pyopencap.analysis import CAPHamiltonian\n",
    "CAPH = CAPHamiltonian(H0=h0,W=W)\n",
    "eta_list = np.linspace(0,10000,201) * 1E-5\n",
    "CAPH.run_trajectory(eta_list)\n",
    "import matplotlib.pyplot as plt\n",
    "ref_energy = h0[0][0]\n",
    "traj = CAPH.track_state(1,tracking=\"overlap\")\n",
    "uc_energies = traj.energies_ev(ref_energy=ref_energy)\n",
    "corr_energies = traj.energies_ev(ref_energy=ref_energy,corrected=True)\n",
    "uc_energy, eta_opt = traj.find_eta_opt(start_idx=10)\n",
    "uc_energy = (uc_energy-ref_energy)*27.2114\n",
    "corr_energy, corr_eta_opt = traj.find_eta_opt(corrected=True,start_idx=10)\n",
    "corr_energy = (corr_energy-ref_energy)*27.2114\n",
    "print(\"Uncorrected:\")\n",
    "print(uc_energy)\n",
    "print(eta_opt)\n",
    "print(\"Corrected:\")\n",
    "print(corr_energy)\n",
    "print(corr_eta_opt)\n",
    "plt.plot(np.real(uc_energies),np.imag(uc_energies),'-ro',label=\"Uncorrected\")\n",
    "plt.plot(np.real(corr_energies),np.imag(corr_energies),'-bo',label=\"Corrected\")\n",
    "plt.plot(np.real(uc_energy),np.imag(uc_energy),'g*',markersize=20)\n",
    "plt.plot(np.real(corr_energy),np.imag(corr_energy),'g*',markersize=20)\n",
    "plt.legend()\n",
    "plt.show()"
   ]
  }
 ],
 "metadata": {
  "kernelspec": {
   "display_name": "Python 3",
   "language": "python",
   "name": "python3"
  },
  "language_info": {
   "codemirror_mode": {
    "name": "ipython",
    "version": 3
   },
   "file_extension": ".py",
   "mimetype": "text/x-python",
   "name": "python",
   "nbconvert_exporter": "python",
   "pygments_lexer": "ipython3",
   "version": "3.8.10"
  }
 },
 "nbformat": 4,
 "nbformat_minor": 4
}
